{
 "cells": [
  {
   "cell_type": "markdown",
   "metadata": {
    "id": "nWHZlEbr_34A"
   },
   "source": [
    "## Lab 1: Goodreads Parsing and Scraping\n",
    "**Univ.AI** <br>\n",
    "**DS-1 Cohort 1**\n"
   ]
  },
  {
   "cell_type": "markdown",
   "metadata": {
    "id": "0dcNwcwJsJhh"
   },
   "source": [
    "## Table of Contents\n",
    "* [Lab1: Goodreads Scraping and Parsing](#Lab1:-Goodreads-Scraping-and-Parsing)\n",
    "  * [Learning Goals](##Learning-Goals)\n",
    "  * [Q1: Scrape the \"Best Books ever\" web page](##Q1:-Scrape-the-\"Best-Books-ever\"-web-page)\n",
    "  * [Q2: Parse the page, extract book urls](##Q2:-Parse-the-page,-extract-book-urls)\n",
    "  * [Q3: Scrape the web page of each book](##Q3:-Scrape-the-web-page-of-each-book)\n",
    "  * [Q4: Parse each books page, extract information](##Q4:-Parse-each-books-page,-extract-information)\n",
    "    * [4.1 Extract genres](###4.1-Extract-Genres)\n",
    "    * [4.2 Extract Published Year](###4.2-Extract-Published-Year)\n",
    "    * [4.3 Extract Rating, ISBN, Title of the book, Author and Rating Count](###4.3-Extract-Rating,-ISBN,-Title-of-the-book,-Author-and-Rating-Count)\n",
    "    * [4.4 Creating a DataFrame](###4.4-Creating-a-DataFrame)\n"
   ]
  },
  {
   "cell_type": "markdown",
   "metadata": {
    "id": "Z3Tuwno9_367"
   },
   "source": [
    "## Learning Goals \n",
    "Goodreads has put out a list of the \"Best Books ever\", as voted on by around 200,000 people from the general Goodreads community. \n",
    "\n",
    "In this lab, we will be scraping and extracting information from Goodread's \"[Best Books ever](https://www.goodreads.com/list/show/1.Best_Books_Ever?page=1)\" list.\n",
    "\n",
    "This lab consists of four main parts:\n",
    "1. Scraping the \"Best Books ever\" web page\n",
    "2. Parsing the page, extract book urls\n",
    "3. Scraping the web page of each book\n",
    "4. Parsing a book page, extract book properties\n",
    "\n",
    "This lab will develop your skills in:\n",
    "* Exploring web pages through developer tools \n",
    "* Scraping and Parsing using Beautiful Soup and requests"
   ]
  },
  {
   "cell_type": "code",
   "execution_count": 1,
   "metadata": {
    "id": "6PPYEYMj_37E"
   },
   "outputs": [],
   "source": [
    "#Import libraries\n",
    "%matplotlib inline\n",
    "import numpy as np\n",
    "import matplotlib.pyplot as plt\n",
    "import pandas as pd\n",
    "import re\n",
    "import time, requests"
   ]
  },
  {
   "cell_type": "markdown",
   "metadata": {
    "id": "SxSM_hL__37K"
   },
   "source": [
    "## Q1: Scrape the  \"Best Books ever\" web page\n",
    "We're going to see the structure of Goodread's best books list. \n",
    "\n",
    "To get this page we use pythons [requests module](https://requests.readthedocs.io/en/master/). "
   ]
  },
  {
   "cell_type": "code",
   "execution_count": 2,
   "metadata": {
    "id": "yfZ5KA5i_37O"
   },
   "outputs": [],
   "source": [
    "#Getting the url using requests module\n",
    "URLSTART=\"https://www.goodreads.com\"\n",
    "BESTBOOKS=\"/list/show/1.Best_Books_Ever?page=\"\n",
    "url = URLSTART+BESTBOOKS+'1'\n",
    "page = requests.get(url)\n"
   ]
  },
  {
   "cell_type": "code",
   "execution_count": null,
   "metadata": {},
   "outputs": [],
   "source": []
  },
  {
   "cell_type": "markdown",
   "metadata": {
    "id": "63XN7F7evAK5"
   },
   "source": [
    "Check the status of the page - 200 is OK and 404 is not good!"
   ]
  },
  {
   "cell_type": "code",
   "execution_count": 3,
   "metadata": {
    "colab": {
     "base_uri": "https://localhost:8080/"
    },
    "id": "DayARHGc_37d",
    "outputId": "2063b858-cbd9-4fa8-d7bf-38543650d534"
   },
   "outputs": [
    {
     "data": {
      "text/plain": [
       "200"
      ]
     },
     "execution_count": 3,
     "metadata": {},
     "output_type": "execute_result"
    }
   ],
   "source": [
    "page.status_code"
   ]
  },
  {
   "cell_type": "markdown",
   "metadata": {
    "id": "iLc5msTFvIOt"
   },
   "source": [
    "Now that we are familiar with pythons request module, let us access the first two pages from Goodreads. \n",
    "\n",
    "This will mean you will need to scrape **two** URLs: https://www.goodreads.com/list/show/1.Best_Books_Ever?page=1 and  https://www.goodreads.com/list/show/1.Best_Books_Ever?page=2. \n",
    "\n",
    "<br>\n",
    "\n",
    "**Hint:** To do this, you can put your request.get() function in a `for` loop.<br>\n",
    "You will also need to use the time.sleep() function to wait for 1 second between the two get requests so that Goodread's doesn't think you are a threat attempting to mount a denial-of-service attack!<br>\n",
    "In addition to this, store the HTML text in a dictionary `page_dict`. The key should be the page number (1 or 2) and the value should be the HTML text corresponding the page."
   ]
  },
  {
   "cell_type": "code",
   "execution_count": 4,
   "metadata": {
    "id": "CFAKLa5d_37i"
   },
   "outputs": [],
   "source": [
    "#Loop to fetch 2 pages of \"best-books\" from goodreads. \n",
    "URLSTART=\"https://www.goodreads.com\"\n",
    "BESTBOOKS=\"/list/show/1.Best_Books_Ever?page=\"\n",
    "    \n",
    "\n",
    "page_dict={}\n",
    "\n",
    "#your code here\n",
    "\n",
    "\n",
    "for page_no in range(1,3):\n",
    "    r = requests.get(URLSTART + BESTBOOKS+ str(page_no))\n",
    "    page_dict[page_no] = r.text\n"
   ]
  },
  {
   "cell_type": "code",
   "execution_count": 5,
   "metadata": {},
   "outputs": [
    {
     "data": {
      "text/plain": [
       "2"
      ]
     },
     "execution_count": 5,
     "metadata": {},
     "output_type": "execute_result"
    }
   ],
   "source": [
    "len(page_dict)"
   ]
  },
  {
   "cell_type": "markdown",
   "metadata": {
    "id": "ghXGaY1s_37p"
   },
   "source": [
    "# Q2: Parse the page, extract book urls\n",
    "\n",
    "Our next step should be to parse the HTML text we have saved from the previous section and extract the information we need. \n",
    "\n",
    "To do this, we will be using BeautifulSoup to transform HTML content into Python data structures. You can also use other libraries like PyQuery if you are comfortable with jQuery, but we will be using BeautifulSoup.\n"
   ]
  },
  {
   "cell_type": "code",
   "execution_count": 6,
   "metadata": {
    "id": "es2gh_EQ_37w"
   },
   "outputs": [],
   "source": [
    "#Import BeautifulSoup'NoneType' object is not iterable\n",
    "from bs4 import BeautifulSoup"
   ]
  },
  {
   "cell_type": "markdown",
   "metadata": {
    "id": "YOeTQrYtxILB"
   },
   "source": [
    "Our aim is to extract the **book URLs** on the page in order to use it in further sections. \n",
    "\n",
    "To do this, we look for the elements with class bookTitle, extract the urls, and write them into a dictionary `urldict` where the keys are the page numbers and the values are a list of the book URLs extracted from the page.\n",
    "\n",
    "\n",
    "**Hint:** While parsing the HTML, look for the HTML a element, but only the one that has a CSS class of `bookTitle`. If you look at the page source, you'll see a construct like **`class=bookTitle`** on the table as seen below:\n",
    "<br><br>\n",
    "![goodreadsexample](https://drive.google.com/uc?export=view&id=1PUvIe7VkXFSkvrj4pZm0pRKWr6W8Rw0F)\n"
   ]
  },
  {
   "cell_type": "code",
   "execution_count": 7,
   "metadata": {},
   "outputs": [],
   "source": [
    "urldict={}\n",
    "for key in page_dict:\n",
    "    book_links_in_page = []\n",
    "    soup = BeautifulSoup(page_dict[key], 'html.parser')\n",
    "    \n",
    "    for a in soup.find_all('a','bookTitle', href=True):\n",
    "        if a.text:\n",
    "            book_links_in_page.append(URLSTART+a['href'])\n",
    "    \n",
    "    urldict[key] = book_links_in_page\n",
    "    "
   ]
  },
  {
   "cell_type": "markdown",
   "metadata": {
    "id": "S5c9Ip_A_379"
   },
   "source": [
    "## Q3: Scrape the web page of each book"
   ]
  },
  {
   "cell_type": "markdown",
   "metadata": {
    "id": "5GB1tiwv4qdH"
   },
   "source": [
    "Now that we have the book URLs in a dictionary `urldict`, we can parse the web pages of the books itself to extract some information. <br>\n",
    "\n",
    "Before we extract information, we will need to get the HTML text for each book's page. \n",
    "Scrape the books web pages and store the HTML text for each book in a dictionary named `bookdict` using a `for` loop in a similar fashion as before."
   ]
  },
  {
   "cell_type": "code",
   "execution_count": 8,
   "metadata": {},
   "outputs": [
    {
     "name": "stdout",
     "output_type": "stream",
     "text": [
      "200\n"
     ]
    }
   ],
   "source": [
    "stuff= requests.get(urldict[2][0])\n",
    "print(stuff.status_code)"
   ]
  },
  {
   "cell_type": "code",
   "execution_count": 9,
   "metadata": {
    "colab": {
     "base_uri": "https://localhost:8080/"
    },
    "id": "3Hfb0MK3_37_",
    "outputId": "49116482-db77-4f2a-dde6-5fdd2a49ae1c",
    "scrolled": true
   },
   "outputs": [
    {
     "name": "stdout",
     "output_type": "stream",
     "text": [
      "200\n"
     ]
    }
   ],
   "source": [
    "#This is just an **example** to understand how to scarpe these files\n",
    "#Scraping one of the files\n",
    "URLSTART=\"https://www.goodreads.com\"\n",
    "book_url=urldict[2][0]\n",
    "stuff=requests.get(book_url)\n",
    "\n",
    "#Check the status of the page\n",
    "print(stuff.status_code)\n",
    "\n",
    "#All OK!"
   ]
  },
  {
   "cell_type": "code",
   "execution_count": 10,
   "metadata": {
    "id": "hjUWYtrkBV9N"
   },
   "outputs": [],
   "source": [
    "#Fetching the actual 200 book pages\n",
    "#In the interest of time, we are taking just the first 10 of each page. Running this for 200 books takes 25 min!\n",
    "bookdict={}\n",
    "\n",
    "#your code here\n",
    "for key in urldict:\n",
    "    \n",
    "    lst= []\n",
    "    for page in range(10):\n",
    "        html_of_book = requests.get(urldict[key][page])\n",
    "        lst.append(html_of_book.text)\n",
    "        \n",
    "    bookdict[key] = lst\n",
    "\n"
   ]
  },
  {
   "cell_type": "code",
   "execution_count": 11,
   "metadata": {},
   "outputs": [
    {
     "data": {
      "text/plain": [
       "10"
      ]
     },
     "execution_count": 11,
     "metadata": {},
     "output_type": "execute_result"
    }
   ],
   "source": [
    "len(bookdict[2])"
   ]
  },
  {
   "cell_type": "markdown",
   "metadata": {
    "id": "IeDDwZn6-FSn"
   },
   "source": [
    "##Q4: Parse each books page, extract information\n",
    "\n",
    "Now that we have the HTML text for the books, we can extract information from these web pages. \n",
    "We intend to extract the following data:\n",
    "\n",
    "- Published year\n",
    "- Rating\n",
    "- ISBN \n",
    "- Title of the book\n",
    "- Author\n",
    "- Genres this book fits in. Since there are several genres associated with each book, you will need to extract the URL of each genre, separated by a pipe '|' like so:\n",
    "```\n",
    "/genres/young-adult|/genres/fiction|/genres/science-fiction|/genres/dystopia|/genres/fantasy|/genres/science-fiction|/genres/romance|/genres/adventure|\n",
    "```\n",
    "- Rating count, the number of people who have rated this book\n",
    "<br>\n",
    "<br> \n",
    "All this information can be seen on the web page.\n",
    "You will need to go to the developer tools and extract the necessary information. \n",
    "<br>\n",
    "<br>\n",
    "\n",
    "Since Published year and Genre require some extra processing to be extracted, we will start by writing 2 functions - `get_genre` and `get_year`."
   ]
  },
  {
   "cell_type": "markdown",
   "metadata": {
    "id": "wXJxwcREJGqQ"
   },
   "source": [
    "### 4.1 Extract Genres\n",
    "\n",
    "Write a function to get the genres which takes as input the HTML text and outputs a list of the genre URLs."
   ]
  },
  {
   "cell_type": "code",
   "execution_count": 12,
   "metadata": {
    "id": "c2YIBd9H_38o"
   },
   "outputs": [],
   "source": [
    "#Extracting genre\n",
    "def get_genre(d):\n",
    "\n",
    "#your code here\n",
    "\n",
    "    genres_urls = []\n",
    "    soup = BeautifulSoup(d, 'html.parser')\n",
    "\n",
    "    for a in soup.find_all('a','actionLinkLite bookPageGenreLink', href=True):\n",
    "        if a.text:\n",
    "            genres_urls.append(a['href'])\n",
    "\n",
    "    return genres_urls\n",
    "\n",
    "# test= get_genre(bookdict[1][0])\n",
    "\n",
    "# listToStr = ' |'.join([str(elem) for elem in test])\n",
    "# listToStr"
   ]
  },
  {
   "cell_type": "markdown",
   "metadata": {
    "id": "g9WDGFGbJKzp"
   },
   "source": [
    "### 4.2 Extract Published Year"
   ]
  },
  {
   "cell_type": "markdown",
   "metadata": {
    "id": "zP9BpEv5M2nk"
   },
   "source": [
    "Write a function to get the published year which takes as input the HTML text.\n",
    "\n",
    "You might have to use regular expressions to extract only the year Published Date seen in the web pages."
   ]
  },
  {
   "cell_type": "markdown",
   "metadata": {
    "id": "nM0Smiwf_38h"
   },
   "source": [
    "**Regular expressions** <br>\n",
    "Regular Expressions is a pattern matching mechanism used throughout Computer Science and programming (it's not just specific to Python). A tutorial on Regular Expressions (aka regex) is beond this lab, but below are many great resources that we recommend, if you are interested in them (could be very useful for a homework problem):<br>\n",
    "https://docs.python.org/3.3/library/re.html <br>\n",
    "https://regexone.com <br>\n",
    "https://docs.python.org/3/howto/regex.html <br>\n"
   ]
  },
  {
   "cell_type": "code",
   "execution_count": 13,
   "metadata": {
    "id": "U1rmGa9B_38j"
   },
   "outputs": [],
   "source": [
    "#Extracting published year\n",
    "yearre = r'\\d{4}'\n",
    "def get_year(d):\n",
    "  years=d.find(\"div\", attrs={\"class\": \"uitext darkGreyText\"})\n",
    "  years=years.findChildren(\"div\")[1].text\n",
    "  yearmatch=re.findall(yearre,years)\n",
    "  years_original=d.find_all(\"nobr\", attrs={\"class\": \"greyText\"})\n",
    "  if years_original!=[]:\n",
    "    finalyear=yearmatch[1]\n",
    "    return finalyear\n",
    "  else:\n",
    "      if len(yearmatch) > 0:\n",
    "          finalyear=yearmatch[0]\n",
    "      else:\n",
    "          finalyear=\"NA\"\n",
    "      return finalyear\n"
   ]
  },
  {
   "cell_type": "markdown",
   "metadata": {
    "id": "y-y8tarRJUJW"
   },
   "source": [
    "### 4.3 Extract Rating, ISBN, Title of the book, Author and Rating Count"
   ]
  },
  {
   "cell_type": "markdown",
   "metadata": {
    "id": "Aemp8j2gJfNf"
   },
   "source": [
    "Now that you have created functions to extract genres and published years, you can extract the rest of the fields in a line or two.\n",
    "\n",
    "Extract the other fields and incorporate your functions to get a **list of dictionaries**. Each element in the list is a dictionary with the information you have extracted (Published year, Rating, ISBN, Title of the book, Author, Genres, Rating Count).\n",
    "<br>\n",
    "<br>\n",
    "So **each element in the list** should look something like this:\n",
    "```\n",
    "{'author': 'https://www.goodreads.com/author/show/153394.Suzanne_Collins',\n",
    " 'booktype': 'books.book',\n",
    " 'rating': 4.33,\n",
    " 'genres': '/genres/young-adult|/genres/fiction|/genres/science-fiction|/genres/dystopia|/genres/fantasy|/genres/science-fiction|/genres/romance|/genres/adventure|/genres/young-adult|/genres/teen|/genres/apocalyptic|/genres/post-apocalyptic|/genres/action',\n",
    " 'isbn': '9780439023481',\n",
    " 'ratingCount': '6554254',\n",
    " 'title': 'The Hunger Games (The Hunger Games, #1)',\n",
    " 'year': '2008'}\n",
    "```\n",
    "\n",
    "**Note**: Remember to convert your list of genres to a string seperated with the pipe character '|'.\n"
   ]
  },
  {
   "cell_type": "code",
   "execution_count": 21,
   "metadata": {},
   "outputs": [
    {
     "name": "stdout",
     "output_type": "stream",
     "text": [
      "{'Title': 'The Hunger Games', 'Author': 'https://www.goodreads.com/author/show/153394.Suzanne_Collins', 'Book Type': 'books.book', 'Year': '2008', 'Rating': '6,577,911\\n  ratings', 'ISBN': '9780439023481', 'Rating Count': '4.32', 'Genres': '/genres/young-adult|/genres/fiction|/genres/science-fiction|/genres/dystopia|/genres/fantasy|/genres/science-fiction|/genres/romance|/genres/adventure|/genres/young-adult|/genres/teen|/genres/apocalyptic|/genres/post-apocalyptic|/genres/action'}\n"
     ]
    }
   ],
   "source": [
    "#Extracting genre\n",
    "def get_details(d):\n",
    "\n",
    "#your code here\n",
    "\n",
    "    \n",
    "    soup = BeautifulSoup(d, 'html.parser')\n",
    "\n",
    "    for a in soup.find_all('a','authorName', href=True):\n",
    "        author_name=(a['href'])\n",
    "            \n",
    "    for a in soup.find('span',itemprop = \"ratingValue\"):\n",
    "        rating = a.strip()\n",
    "    \n",
    "    try:\n",
    "        for a in soup.find('span',itemprop = 'isbn'):\n",
    "            isbn= a   \n",
    "    except:\n",
    "        isbn=' '\n",
    "        pass\n",
    "            \n",
    "    for a in soup.find('meta',itemprop = 'ratingCount'):\n",
    "        ratings= a.strip()     \n",
    "            \n",
    "    for a in soup.find('h1',id=\"bookTitle\"):\n",
    "        title = a.strip() \n",
    "            \n",
    "    name = soup.find('meta',attrs={'property':'og:type'})\n",
    "    book_name= name.get('content')\n",
    "            \n",
    "    year = get_year(soup)\n",
    "    \n",
    "    \n",
    "    genre = get_genre(d)\n",
    "    genre = '|'.join([str(elem) for elem in genre])\n",
    "\n",
    "    key = ['Title','Author','Book Type','Year','Rating','ISBN','Rating Count','Genres']\n",
    "    \n",
    "    values = [title, author_name, book_name, year ,ratings, isbn, rating, genre]\n",
    "    \n",
    "    return dict(zip(key,values)) \n",
    "    \n",
    "\n",
    "    \n",
    "\n",
    "print(get_details(bookdict[1][0]))"
   ]
  },
  {
   "cell_type": "code",
   "execution_count": 22,
   "metadata": {
    "id": "5TKaGEt6_38p"
   },
   "outputs": [],
   "source": [
    "listofdicts=[]\n",
    "\n",
    "#your code here\n",
    "for page in bookdict:\n",
    "    for book in range(len(bookdict[page])):\n",
    "        listofdicts.append(get_details(bookdict[page][book]))"
   ]
  },
  {
   "cell_type": "markdown",
   "metadata": {
    "id": "ZjtwDg2LJpuv"
   },
   "source": [
    "### 4.4 Creating a DataFrame\n",
    "\n",
    "Convert the list of dictionaries created above to a Pandas DataFrame"
   ]
  },
  {
   "cell_type": "code",
   "execution_count": 23,
   "metadata": {
    "id": "i0bGQ8l-_380"
   },
   "outputs": [
    {
     "data": {
      "text/html": [
       "<div>\n",
       "<style scoped>\n",
       "    .dataframe tbody tr th:only-of-type {\n",
       "        vertical-align: middle;\n",
       "    }\n",
       "\n",
       "    .dataframe tbody tr th {\n",
       "        vertical-align: top;\n",
       "    }\n",
       "\n",
       "    .dataframe thead th {\n",
       "        text-align: right;\n",
       "    }\n",
       "</style>\n",
       "<table border=\"1\" class=\"dataframe\">\n",
       "  <thead>\n",
       "    <tr style=\"text-align: right;\">\n",
       "      <th></th>\n",
       "      <th>Title</th>\n",
       "      <th>Author</th>\n",
       "      <th>Book Type</th>\n",
       "      <th>Year</th>\n",
       "      <th>Rating</th>\n",
       "      <th>ISBN</th>\n",
       "      <th>Rating Count</th>\n",
       "      <th>Genres</th>\n",
       "    </tr>\n",
       "  </thead>\n",
       "  <tbody>\n",
       "    <tr>\n",
       "      <th>0</th>\n",
       "      <td>The Hunger Games</td>\n",
       "      <td>https://www.goodreads.com/author/show/153394.S...</td>\n",
       "      <td>books.book</td>\n",
       "      <td>2008</td>\n",
       "      <td>6,577,911\\n  ratings</td>\n",
       "      <td>9780439023481</td>\n",
       "      <td>4.32</td>\n",
       "      <td>/genres/young-adult|/genres/fiction|/genres/sc...</td>\n",
       "    </tr>\n",
       "    <tr>\n",
       "      <th>1</th>\n",
       "      <td>Harry Potter and the Order of the Phoenix</td>\n",
       "      <td>https://www.goodreads.com/author/show/2927.Mar...</td>\n",
       "      <td>books.book</td>\n",
       "      <td>2003</td>\n",
       "      <td>2,602,396\\n  ratings</td>\n",
       "      <td>9780439358071</td>\n",
       "      <td>4.50</td>\n",
       "      <td>/genres/fantasy|/genres/young-adult|/genres/fi...</td>\n",
       "    </tr>\n",
       "    <tr>\n",
       "      <th>2</th>\n",
       "      <td>To Kill a Mockingbird</td>\n",
       "      <td>https://www.goodreads.com/author/show/1825.Har...</td>\n",
       "      <td>books.book</td>\n",
       "      <td>1960</td>\n",
       "      <td>4,663,733\\n  ratings</td>\n",
       "      <td></td>\n",
       "      <td>4.28</td>\n",
       "      <td>/genres/classics|/genres/fiction|/genres/histo...</td>\n",
       "    </tr>\n",
       "    <tr>\n",
       "      <th>3</th>\n",
       "      <td>Pride and Prejudice</td>\n",
       "      <td>https://www.goodreads.com/author/show/3500.Ann...</td>\n",
       "      <td>books.book</td>\n",
       "      <td>1813</td>\n",
       "      <td>3,110,289\\n  ratings</td>\n",
       "      <td></td>\n",
       "      <td>4.27</td>\n",
       "      <td>/genres/classics|/genres/fiction|/genres/roman...</td>\n",
       "    </tr>\n",
       "    <tr>\n",
       "      <th>4</th>\n",
       "      <td>Twilight</td>\n",
       "      <td>https://www.goodreads.com/author/show/941441.S...</td>\n",
       "      <td>books.book</td>\n",
       "      <td>2005</td>\n",
       "      <td>5,122,025\\n  ratings</td>\n",
       "      <td>9780316015844</td>\n",
       "      <td>3.61</td>\n",
       "      <td>/genres/young-adult|/genres/fantasy|/genres/ro...</td>\n",
       "    </tr>\n",
       "  </tbody>\n",
       "</table>\n",
       "</div>"
      ],
      "text/plain": [
       "                                       Title  \\\n",
       "0                           The Hunger Games   \n",
       "1  Harry Potter and the Order of the Phoenix   \n",
       "2                      To Kill a Mockingbird   \n",
       "3                        Pride and Prejudice   \n",
       "4                                   Twilight   \n",
       "\n",
       "                                              Author   Book Type  Year  \\\n",
       "0  https://www.goodreads.com/author/show/153394.S...  books.book  2008   \n",
       "1  https://www.goodreads.com/author/show/2927.Mar...  books.book  2003   \n",
       "2  https://www.goodreads.com/author/show/1825.Har...  books.book  1960   \n",
       "3  https://www.goodreads.com/author/show/3500.Ann...  books.book  1813   \n",
       "4  https://www.goodreads.com/author/show/941441.S...  books.book  2005   \n",
       "\n",
       "                 Rating           ISBN Rating Count  \\\n",
       "0  6,577,911\\n  ratings  9780439023481         4.32   \n",
       "1  2,602,396\\n  ratings  9780439358071         4.50   \n",
       "2  4,663,733\\n  ratings                        4.28   \n",
       "3  3,110,289\\n  ratings                        4.27   \n",
       "4  5,122,025\\n  ratings  9780316015844         3.61   \n",
       "\n",
       "                                              Genres  \n",
       "0  /genres/young-adult|/genres/fiction|/genres/sc...  \n",
       "1  /genres/fantasy|/genres/young-adult|/genres/fi...  \n",
       "2  /genres/classics|/genres/fiction|/genres/histo...  \n",
       "3  /genres/classics|/genres/fiction|/genres/roman...  \n",
       "4  /genres/young-adult|/genres/fantasy|/genres/ro...  "
      ]
     },
     "execution_count": 23,
     "metadata": {},
     "output_type": "execute_result"
    }
   ],
   "source": [
    "df = pd.DataFrame.from_records(listofdicts)\n",
    "df.head()"
   ]
  },
  {
   "cell_type": "markdown",
   "metadata": {
    "id": "oJPAaLqvQkuB"
   },
   "source": [
    "Convert this dataframe to a csv file and store it using `to_csv`."
   ]
  },
  {
   "cell_type": "code",
   "execution_count": 17,
   "metadata": {
    "id": "iSgShg17_383"
   },
   "outputs": [],
   "source": [
    "df.to_csv(\"Goodreads.csv\", index=False, header=True)"
   ]
  },
  {
   "cell_type": "code",
   "execution_count": null,
   "metadata": {},
   "outputs": [],
   "source": []
  }
 ],
 "metadata": {
  "colab": {
   "name": "distribute_Lab1.ipynb",
   "provenance": []
  },
  "kernelspec": {
   "display_name": "Python 3",
   "language": "python",
   "name": "python3"
  },
  "language_info": {
   "codemirror_mode": {
    "name": "ipython",
    "version": 3
   },
   "file_extension": ".py",
   "mimetype": "text/x-python",
   "name": "python",
   "nbconvert_exporter": "python",
   "pygments_lexer": "ipython3",
   "version": "3.8.5"
  }
 },
 "nbformat": 4,
 "nbformat_minor": 4
}
